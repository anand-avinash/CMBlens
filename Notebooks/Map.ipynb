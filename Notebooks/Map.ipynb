{
 "cells": [
  {
   "cell_type": "code",
   "execution_count": 1,
   "metadata": {},
   "outputs": [
    {
     "name": "stdout",
     "output_type": "stream",
     "text": [
      "/global/cfs/cdirs/litebird/simulations/maps/post_ptep_inputs_20220522/websky_extragal/websky_lensed_cmb\n"
     ]
    }
   ],
   "source": [
    "cd /global/cfs/cdirs/litebird/simulations/maps/post_ptep_inputs_20220522/websky_extragal/websky_lensed_cmb"
   ]
  },
  {
   "cell_type": "code",
   "execution_count": 2,
   "metadata": {},
   "outputs": [],
   "source": [
    "from cmblens_mini import MetaSIM"
   ]
  },
  {
   "cell_type": "code",
   "execution_count": 3,
   "metadata": {},
   "outputs": [],
   "source": [
    "m = MetaSIM('META.db')"
   ]
  },
  {
   "cell_type": "code",
   "execution_count": 6,
   "metadata": {},
   "outputs": [
    {
     "data": {
      "text/plain": [
       "38748"
      ]
     },
     "execution_count": 6,
     "metadata": {},
     "output_type": "execute_result"
    }
   ],
   "source": [
    "m.get_seed(150)"
   ]
  },
  {
   "cell_type": "code",
   "execution_count": 7,
   "metadata": {},
   "outputs": [
    {
     "name": "stdout",
     "output_type": "stream",
     "text": [
      "/global/cfs/cdirs/litebird/simulations/maps/post_ptep_inputs_20220522/websky_extragal/websky_lensed_cmb/CMB\n"
     ]
    }
   ],
   "source": [
    "cd CMB"
   ]
  },
  {
   "cell_type": "code",
   "execution_count": 10,
   "metadata": {},
   "outputs": [
    {
     "name": "stdout",
     "output_type": "stream",
     "text": [
      "sims_000.fits  sims_012.fits  sims_024.fits  sims_036.fits  sims_048.fits\n",
      "sims_001.fits  sims_013.fits  sims_025.fits  sims_037.fits  sims_049.fits\n",
      "sims_002.fits  sims_014.fits  sims_026.fits  sims_038.fits  sims_050.fits\n",
      "sims_003.fits  sims_015.fits  sims_027.fits  sims_039.fits  sims_051.fits\n",
      "sims_004.fits  sims_016.fits  sims_028.fits  sims_040.fits  sims_052.fits\n",
      "sims_005.fits  sims_017.fits  sims_029.fits  sims_041.fits  sims_053.fits\n",
      "sims_006.fits  sims_018.fits  sims_030.fits  sims_042.fits  sims_054.fits\n",
      "sims_007.fits  sims_019.fits  sims_031.fits  sims_043.fits  sims_055.fits\n",
      "sims_008.fits  sims_020.fits  sims_032.fits  sims_044.fits  sims_056.fits\n",
      "sims_009.fits  sims_021.fits  sims_033.fits  sims_045.fits  sims_057.fits\n",
      "sims_010.fits  sims_022.fits  sims_034.fits  sims_046.fits  sims_058.fits\n",
      "sims_011.fits  sims_023.fits  sims_035.fits  sims_047.fits  sims_059.fits\n"
     ]
    }
   ],
   "source": [
    "ls"
   ]
  },
  {
   "cell_type": "code",
   "execution_count": null,
   "metadata": {},
   "outputs": [],
   "source": []
  }
 ],
 "metadata": {
  "kernelspec": {
   "display_name": "Pylens",
   "language": "python",
   "name": "cmblens"
  },
  "language_info": {
   "codemirror_mode": {
    "name": "ipython",
    "version": 3
   },
   "file_extension": ".py",
   "mimetype": "text/x-python",
   "name": "python",
   "nbconvert_exporter": "python",
   "pygments_lexer": "ipython3",
   "version": "3.10.4"
  },
  "orig_nbformat": 4
 },
 "nbformat": 4,
 "nbformat_minor": 2
}
